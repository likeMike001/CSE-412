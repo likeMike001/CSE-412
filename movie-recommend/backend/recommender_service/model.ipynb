{
 "cells": [
  {
   "cell_type": "markdown",
   "metadata": {},
   "source": [
    "## Recommder Model \n",
    "### Recommending movies based on genres and cast - members"
   ]
  },
  {
   "cell_type": "code",
   "execution_count": 49,
   "metadata": {},
   "outputs": [],
   "source": [
    "import pandas as pd;\n",
    "import requests\n",
    "from sklearn.feature_extraction.text import TfidfVectorizer\n",
    "from sklearn.metrics.pairwise import cosine_similarity"
   ]
  },
  {
   "cell_type": "code",
   "execution_count": 50,
   "metadata": {},
   "outputs": [],
   "source": [
    "def load_movie_data():\n",
    "    response = requests.get('http://localhost:3001/api/movies')\n",
    "    movies_data = response.json()\n",
    "    df = pd.DataFrame(movies_data)\n",
    "    \n",
    "    \n",
    "    \n",
    "    # this for the both the features , the actors and genres \n",
    "    # df['combined_features'] = df.apply(lambda x: ' '.join(x['genres'] + x['actors']),axis=1)\n",
    "    return df"
   ]
  },
  {
   "cell_type": "code",
   "execution_count": 28,
   "metadata": {},
   "outputs": [
    {
     "data": {
      "text/plain": [
       "(2415, 7)"
      ]
     },
     "execution_count": 28,
     "metadata": {},
     "output_type": "execute_result"
    }
   ],
   "source": [
    "\n",
    "movies_d = load_movie_data()\n",
    "movies_d.head()\n",
    "# movies_d.describe()\n",
    "movies_d.shape"
   ]
  },
  {
   "cell_type": "markdown",
   "metadata": {},
   "source": [
    "### Cleaning the data "
   ]
  },
  {
   "cell_type": "code",
   "execution_count": 29,
   "metadata": {},
   "outputs": [
    {
     "data": {
      "text/plain": [
       "(2368, 7)"
      ]
     },
     "execution_count": 29,
     "metadata": {},
     "output_type": "execute_result"
    }
   ],
   "source": [
    "df_cleaned = movies_d[movies_d['genres'].apply(len) > 0 & (movies_d['actors'].apply(len) > 0)]\n",
    "df_cleaned.shape"
   ]
  },
  {
   "cell_type": "markdown",
   "metadata": {},
   "source": [
    "### Verify Cleaning"
   ]
  },
  {
   "cell_type": "code",
   "execution_count": 30,
   "metadata": {},
   "outputs": [
    {
     "name": "stdout",
     "output_type": "stream",
     "text": [
      "Movies with empty genres: 0\n",
      "Movies with empty actors: 20\n",
      "\n",
      "Genres count distribution:\n",
      "count    2368.000000\n",
      "mean        2.037162\n",
      "std         0.894694\n",
      "min         1.000000\n",
      "25%         1.000000\n",
      "50%         2.000000\n",
      "75%         3.000000\n",
      "max         6.000000\n",
      "Name: genres, dtype: float64\n",
      "\n",
      "Actors count distribution:\n",
      "count    2368.000000\n",
      "mean       10.857686\n",
      "std         9.027701\n",
      "min         0.000000\n",
      "25%         3.000000\n",
      "50%         8.000000\n",
      "75%        16.000000\n",
      "max        59.000000\n",
      "Name: actors, dtype: float64\n"
     ]
    }
   ],
   "source": [
    "print(\"Movies with empty genres:\", sum(df_cleaned['genres'].apply(len) == 0))\n",
    "print(\"Movies with empty actors:\", sum(df_cleaned['actors'].apply(len) == 0))\n",
    "\n",
    "print(\"\\nGenres count distribution:\")\n",
    "print(df_cleaned['genres'].apply(len).describe())\n",
    "print(\"\\nActors count distribution:\")\n",
    "print(df_cleaned['actors'].apply(len).describe())"
   ]
  },
  {
   "cell_type": "code",
   "execution_count": 33,
   "metadata": {},
   "outputs": [
    {
     "name": "stdout",
     "output_type": "stream",
     "text": [
      "Index(['title', 'year', 'thumbnail', 'href', 'extract', 'genres', 'actors'], dtype='object')\n"
     ]
    }
   ],
   "source": [
    "print(df_cleaned.columns)\n",
    "# df_cleaned.drop(columns='href')\n"
   ]
  },
  {
   "cell_type": "code",
   "execution_count": 32,
   "metadata": {},
   "outputs": [
    {
     "name": "stdout",
     "output_type": "stream",
     "text": [
      "Index(['title', 'year', 'thumbnail', 'href', 'extract', 'genres', 'actors'], dtype='object')\n"
     ]
    }
   ],
   "source": [
    "print(df_cleaned.columns)"
   ]
  },
  {
   "cell_type": "markdown",
   "metadata": {},
   "source": [
    "### Creating the combined feature column "
   ]
  },
  {
   "cell_type": "code",
   "execution_count": 34,
   "metadata": {},
   "outputs": [
    {
     "name": "stderr",
     "output_type": "stream",
     "text": [
      "C:\\Users\\Rudre\\AppData\\Local\\Temp\\ipykernel_29236\\2555737426.py:1: SettingWithCopyWarning: \n",
      "A value is trying to be set on a copy of a slice from a DataFrame.\n",
      "Try using .loc[row_indexer,col_indexer] = value instead\n",
      "\n",
      "See the caveats in the documentation: https://pandas.pydata.org/pandas-docs/stable/user_guide/indexing.html#returning-a-view-versus-a-copy\n",
      "  df_cleaned['combined_features'] = df_cleaned.apply(lambda x: ''.join(x['genres']+ x['actors']),axis=1)\n"
     ]
    }
   ],
   "source": [
    "df_cleaned['combined_features'] = df_cleaned.apply(lambda x: ''.join(x['genres']+ x['actors']),axis=1)"
   ]
  },
  {
   "cell_type": "code",
   "execution_count": 37,
   "metadata": {},
   "outputs": [
    {
     "name": "stdout",
     "output_type": "stream",
     "text": [
      "<bound method IndexOpsMixin.tolist of Index(['title', 'year', 'thumbnail', 'href', 'extract', 'genres', 'actors',\n",
      "       'combined_features'],\n",
      "      dtype='object')>\n",
      "  title  year                                          thumbnail  \\\n",
      "0     9  2009  https://upload.wikimedia.org/wikipedia/en/c/c9...   \n",
      "1    12  2009  https://upload.wikimedia.org/wikipedia/en/0/0e...   \n",
      "2    21  2008  https://upload.wikimedia.org/wikipedia/en/a/a8...   \n",
      "3   300  2007  https://upload.wikimedia.org/wikipedia/en/5/5c...   \n",
      "4  1408  2007  https://upload.wikimedia.org/wikipedia/en/6/63...   \n",
      "\n",
      "                     href                                            extract  \\\n",
      "0  9_(2009_animated_film)  9 is a 2009 computer-animated post-apocalyptic...   \n",
      "1          12_(2007_film)  12 is a 2007 legal drama film by Russian direc...   \n",
      "2          21_(2008_film)  21 is a 2008 American heist drama film directe...   \n",
      "3              300_(film)  300 is a 2006 American epic historical action ...   \n",
      "4             1408_(film)  1408 is a 2007 American psychological horror f...   \n",
      "\n",
      "                        genres  \\\n",
      "0  [Animated, Science Fiction]   \n",
      "1               [Drama, Legal]   \n",
      "2              [Drama, Action]   \n",
      "3         [Action, Historical]   \n",
      "4                     [Horror]   \n",
      "\n",
      "                                              actors  \\\n",
      "0  [Elijah Wood, Christopher Plummer, Martin Land...   \n",
      "1  [Sergei Makovetsky, Nikita Mikhalkov, Sergei G...   \n",
      "2  [Jim Sturgess, Kate Bosworth, Laurence Fishbur...   \n",
      "3  [Gerard Butler, Lena Headey, David Wenham, Dom...   \n",
      "4  [John Cusack, Samuel L. Jackson, Mary McCormac...   \n",
      "\n",
      "                                   combined_features  \n",
      "0  AnimatedScience FictionElijah WoodChristopher ...  \n",
      "1  DramaLegalSergei MakovetskyNikita MikhalkovSer...  \n",
      "2  DramaActionJim SturgessKate BosworthLaurence F...  \n",
      "3  ActionHistoricalGerard ButlerLena HeadeyDavid ...  \n",
      "4  HorrorJohn CusackSamuel L. JacksonMary McCorma...  \n"
     ]
    }
   ],
   "source": [
    "print(df_cleaned.columns.to_list)\n",
    "print(df_cleaned.head())"
   ]
  },
  {
   "cell_type": "code",
   "execution_count": 47,
   "metadata": {},
   "outputs": [
    {
     "name": "stdout",
     "output_type": "stream",
     "text": [
      "Index(['title', 'year', 'thumbnail', 'extract', 'genres', 'actors',\n",
      "       'combined_features'],\n",
      "      dtype='object')\n"
     ]
    }
   ],
   "source": [
    "# removed the column href column \n",
    "# df_cleaned = df_cleaned.drop(columns='href')\n",
    "print(df_cleaned.columns)\n"
   ]
  },
  {
   "cell_type": "markdown",
   "metadata": {},
   "source": [
    "#### tf - idf matrix "
   ]
  },
  {
   "cell_type": "code",
   "execution_count": 60,
   "metadata": {},
   "outputs": [
    {
     "data": {
      "text/plain": [
       "array([[1., 0., 0., ..., 0., 0., 0.],\n",
       "       [0., 1., 0., ..., 0., 0., 0.],\n",
       "       [0., 0., 1., ..., 0., 0., 0.],\n",
       "       ...,\n",
       "       [0., 0., 0., ..., 1., 0., 0.],\n",
       "       [0., 0., 0., ..., 0., 1., 0.],\n",
       "       [0., 0., 0., ..., 0., 0., 1.]])"
      ]
     },
     "execution_count": 60,
     "metadata": {},
     "output_type": "execute_result"
    }
   ],
   "source": [
    "tdidf = TfidfVectorizer(stop_words='english')\n",
    "tdidf_matrix = tdidf.fit_transform(df_cleaned['combined_features'])\n",
    "simlarity_matrix = cosine_similarity(tdidf_matrix)\n",
    "# tdidf_matrix\n",
    "simlarity_matrix"
   ]
  },
  {
   "cell_type": "markdown",
   "metadata": {},
   "source": [
    "#### recommendation functionn"
   ]
  },
  {
   "cell_type": "code",
   "execution_count": 54,
   "metadata": {},
   "outputs": [],
   "source": [
    "def get_recommendations(title,num_recommendations=7):\n",
    "    index = df_cleaned[df_cleaned['title'] == title].index[0]\n",
    "    similarity_scores = list(enumerate(simlarity_matrix[index]))\n",
    "    sorted(similarity_scores,key=lambda x : x[1] , reverse= True)\n",
    "    \n",
    "    similar_movies = similarity_scores[1:num_recommendations+1]\n",
    "    movie_indicies = [i[0] for i in similar_movies]\n",
    "    similarity_values = [i[1] for i in similar_movies]\n",
    "    \n",
    "    \n",
    "    recommendations = pd.DataFrame({\n",
    "            'Title': df_cleaned['title'].iloc[movie_indicies],\n",
    "            'Year': df_cleaned['year'].iloc[movie_indicies],\n",
    "            'Genres': df_cleaned['genres'].iloc[movie_indicies],\n",
    "            'Similarity Score': similarity_values\n",
    "        })\n",
    "        \n",
    "    return recommendations\n",
    "    "
   ]
  },
  {
   "cell_type": "code",
   "execution_count": 56,
   "metadata": {},
   "outputs": [
    {
     "name": "stdout",
     "output_type": "stream",
     "text": [
      "Recommendations for: 12\n",
      "\n",
      "            Title  Year                       Genres  Similarity Score\n",
      "1              12  2009               [Drama, Legal]               1.0\n",
      "2              21  2008              [Drama, Action]               0.0\n",
      "3             300  2007         [Action, Historical]               0.0\n",
      "4            1408  2007                     [Horror]               0.0\n",
      "5            2012  2009  [Disaster, Science Fiction]               0.0\n",
      "6  102 Dalmatians  2000      [Comedy, Family, Crime]               0.0\n",
      "7         28 Days  2000              [Drama, Comedy]               0.0\n"
     ]
    }
   ],
   "source": [
    "# Cell 4: Test the recommender\n",
    "# Example: Get recommendations for a movie\n",
    "movie_title = df_cleaned['title'].iloc[1]  # Using first movie as example\n",
    "print(f\"Recommendations for: {movie_title}\\n\")\n",
    "recommendations = get_recommendations(movie_title)\n",
    "print(recommendations)"
   ]
  },
  {
   "cell_type": "markdown",
   "metadata": {},
   "source": [
    "### Model for genre recommendatiosn "
   ]
  },
  {
   "cell_type": "markdown",
   "metadata": {},
   "source": [
    "### recommendations based on genre"
   ]
  },
  {
   "cell_type": "code",
   "execution_count": 71,
   "metadata": {},
   "outputs": [],
   "source": [
    "def genre_based_recommendations(title,s_genre):\n",
    "    num_recommendations = 5\n",
    "    index = df_cleaned[df_cleaned['title'] == title].index[0]\n",
    "    similarity_score = list(enumerate(simlarity_matrix[index]))\n",
    "    sorted(similarity_score,key=lambda x: x[1],reverse=True)\n",
    "    \n",
    "       # Filter for movies containing the specific genre\n",
    "    filtered_scores = []\n",
    "    for i, score in similarity_score:\n",
    "        if s_genre in df_cleaned['genres'].iloc[i]:\n",
    "            filtered_scores.append((i, score))\n",
    "    \n",
    "    # Get top N recommendations (excluding the movie itself)\n",
    "    similar_movies = filtered_scores[1:num_recommendations+1]\n",
    "    \n",
    "    movie_indices = [i[0] for i in similar_movies]\n",
    "    similarity_values = [i[1] for i in similar_movies]\n",
    "    \n",
    "    recommendations = pd.DataFrame({\n",
    "        'Title': df_cleaned['title'].iloc[movie_indices],\n",
    "        'Year': df_cleaned['year'].iloc[movie_indices],\n",
    "        'Genres': df_cleaned['genres'].iloc[movie_indices],\n",
    "        'Similarity Score': similarity_values\n",
    "    })\n",
    "    \n",
    "    return recommendations"
   ]
  },
  {
   "cell_type": "markdown",
   "metadata": {},
   "source": [
    "### recommendations based on actors"
   ]
  },
  {
   "cell_type": "code",
   "execution_count": 72,
   "metadata": {},
   "outputs": [],
   "source": [
    "# Cell 6: Create a function for actor-based recommendations\n",
    "def get_actor_based_recommendations(title, specific_actor, n_recommendations=5):\n",
    "    # Get initial recommendations\n",
    "    idx = df_cleaned[df_cleaned['title'] == title].index[0]\n",
    "    similarity_scores = list(enumerate(simlarity_matrix[idx]))\n",
    "    similarity_scores = sorted(similarity_scores, key=lambda x: x[1], reverse=True)\n",
    "    \n",
    "    # Filter for movies containing the specific actor\n",
    "    filtered_scores = []\n",
    "    for i, score in similarity_scores:\n",
    "        if specific_actor in df_cleaned['actors'].iloc[i]:\n",
    "            filtered_scores.append((i, score))\n",
    "    \n",
    "    # Get top N recommendations (excluding the movie itself)\n",
    "    similar_movies = filtered_scores[1:n_recommendations+1]\n",
    "    \n",
    "    movie_indices = [i[0] for i in similar_movies]\n",
    "    similarity_values = [i[1] for i in similar_movies]\n",
    "    \n",
    "    recommendations = pd.DataFrame({\n",
    "        'Title': df_cleaned['title'].iloc[movie_indices],\n",
    "        'Year': df_cleaned['year'].iloc[movie_indices],\n",
    "        'Actors': df_cleaned['actors'].iloc[movie_indices],\n",
    "        'Similarity Score': similarity_values\n",
    "    })\n",
    "    \n",
    "    return recommendations"
   ]
  },
  {
   "cell_type": "code",
   "execution_count": null,
   "metadata": {},
   "outputs": [
    {
     "name": "stdout",
     "output_type": "stream",
     "text": [
      "Genre-based recommendations for 9 in genre comedy:\n",
      "\n",
      "Empty DataFrame\n",
      "Columns: [Title, Year, Genres, Similarity Score]\n",
      "Index: []\n",
      "\n",
      "Actor-based recommendations for 9 with actor Elijah Wood:\n",
      "\n",
      "                                                  Title  Year  \\\n",
      "357   The Lord of the Rings: The Fellowship of the Ring  2001   \n",
      "580               The Lord of the Rings: The Two Towers  2002   \n",
      "812       The Lord of the Rings: The Return of the King  2003   \n",
      "940               Eternal Sunshine of the Spotless Mind  2004   \n",
      "1148                                           Sin City  2005   \n",
      "\n",
      "                                                 Actors  Similarity Score  \n",
      "357   [Elijah Wood, Ian McKellen, Liv Tyler, Sean As...               0.0  \n",
      "580   [Elijah Wood, Ian McKellen, Liv Tyler, Viggo M...               0.0  \n",
      "812   [Elijah Wood, Ian McKellen, Liv Tyler, Sean As...               0.0  \n",
      "940   [Jim Carrey, Kate Winslet, Kirsten Dunst, Tom ...               0.0  \n",
      "1148  [Jessica Alba, Benicio del Toro, Brittany Murp...               0.0  \n"
     ]
    }
   ],
   "source": [
    "# Cell 7: Test genre and actor-based recommendations\n",
    "# Test genre-based recommendations\n",
    "movie_title = df_cleaned['title'].iloc[0]\n",
    "genre = df_cleaned['genres'].iloc[0][2]  # First genre of the first movie\n",
    "print(f\"Genre-based recommendations for {movie_title} in genre {genre}:\\n\")\n",
    "print(genre_based_recommendations(movie_title, genre))\n",
    "\n",
    "# Test actor-based recommendations\n",
    "actor = df_cleaned['actors'].iloc[0][0]  # First actor of the first movie\n",
    "print(f\"\\nActor-based recommendations for {movie_title} with actor {actor}:\\n\")\n",
    "print(get_actor_based_recommendations(movie_title, actor))"
   ]
  },
  {
   "cell_type": "code",
   "execution_count": null,
   "metadata": {},
   "outputs": [],
   "source": []
  }
 ],
 "metadata": {
  "kernelspec": {
   "display_name": "temp",
   "language": "python",
   "name": "python3"
  },
  "language_info": {
   "codemirror_mode": {
    "name": "ipython",
    "version": 3
   },
   "file_extension": ".py",
   "mimetype": "text/x-python",
   "name": "python",
   "nbconvert_exporter": "python",
   "pygments_lexer": "ipython3",
   "version": "3.11.10"
  }
 },
 "nbformat": 4,
 "nbformat_minor": 2
}
